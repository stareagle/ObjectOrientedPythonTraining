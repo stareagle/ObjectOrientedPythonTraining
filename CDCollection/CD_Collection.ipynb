{
 "cells": [
  {
   "cell_type": "code",
   "execution_count": 76,
   "id": "8749fac9",
   "metadata": {},
   "outputs": [],
   "source": [
    "from datetime import date\n",
    "from datetime import timedelta\n",
    "\n",
    "last_cd_id = 0\n",
    "\n",
    "\n",
    "class CD:\n",
    "    \"\"\"\n",
    "    Describes a physical CD\n",
    "    \"\"\"\n",
    "    def __init__(self, title, pub_year, length):\n",
    "        \"\"\"\n",
    "        Initialises a cd with basic information (title, pub_year, length) and sets the checked out flag to false and\n",
    "        the borrower to blank string \n",
    "        :param title: String\n",
    "        :param pub_year: String\n",
    "        :param length: Int\n",
    "        \"\"\"\n",
    "        self.title = title\n",
    "        self.pub_year = pub_year\n",
    "        self.length_minutes = length\n",
    "        self.checked_out = False\n",
    "        self.borrower = ''\n",
    "        global last_cd_id\n",
    "        last_cd_id += 1\n",
    "        self.cd_id = last_cd_id\n",
    "\n",
    "    def match(self, search_field, filter):\n",
    "        \"\"\"\n",
    "        Depending on the value of the search_field the appropriate attribute is searcged and matched to the filter\n",
    "        parameter and if matches returns true.\n",
    "        :param search_field: String \n",
    "        :param filter: String\n",
    "        :return: \n",
    "        \"\"\"\n",
    "        if search_field == 'T':\n",
    "            return filter in self.title\n",
    "        elif search_field == 'P':\n",
    "            return str(filter) in self.pub_year\n",
    "        elif search_field == 'L':\n",
    "            return str(filter) in str(self.length_minutes)\n",
    "        elif search_field == 'C':\n",
    "            return filter in self.checked_out\n",
    "        elif search_field == 'B':\n",
    "            return filter in self.borrower"
   ]
  },
  {
   "cell_type": "code",
   "execution_count": 98,
   "id": "872fde7b",
   "metadata": {},
   "outputs": [],
   "source": [
    "class CDCase:\n",
    "    \"\"\"\n",
    "    Describes the wooden case holding multiple CDs\n",
    "    \"\"\"\n",
    "    def __init__(self):\n",
    "        \"\"\"\n",
    "        Creates an empty list of cds\n",
    "        \"\"\"\n",
    "        self.cds = []\n",
    "\n",
    "    def new_cd(self, title, pub_year, length):\n",
    "        \"\"\"\n",
    "        Creates a new entry into the list of CDs\n",
    "        :param title: String\n",
    "        :param pub_year: String\n",
    "        :param length: String\n",
    "        :return:\n",
    "        \"\"\"\n",
    "        self.cds.append(CD(title, pub_year, length))\n",
    "\n",
    "    def print_cds(self):\n",
    "        for cd in self.cds:\n",
    "            print(\"{}: {}\".format(cd.cd_id, cd.title))\n",
    "\n",
    "    def delete_cd(self, cd_id):\n",
    "        cd = self._find_cd(cd_id)\n",
    "        if cd:\n",
    "            print(\"{} has been removed\".format(cd.title))\n",
    "            self.cds.remove(cd)\n",
    "        else:\n",
    "            print(\"CD not found\")\n",
    "            \n",
    "    \n",
    "    def check_out_cd(self, cd_id):\n",
    "        cd = self._find_cd(cd_id)\n",
    "        if cd and cd.checked_out == False:\n",
    "            print(\"Checked Out {}, it is due back on {}\".format(cd.title, date.today() + timedelta(days=14)))\n",
    "            cd.checked_out = True\n",
    "        else:\n",
    "            print(\"This is not available for checkout\")\n",
    "                \n",
    "    def _find_cd(self, cd_id):\n",
    "        for cd in self.cds:\n",
    "            if cd.cd_id == cd_id:\n",
    "                return cd\n"
   ]
  },
  {
   "cell_type": "code",
   "execution_count": 99,
   "id": "c4e48b3c",
   "metadata": {},
   "outputs": [],
   "source": [
    "case = CDCase()"
   ]
  },
  {
   "cell_type": "code",
   "execution_count": 100,
   "id": "9c68960b",
   "metadata": {},
   "outputs": [],
   "source": [
    "case.new_cd(\"Bat Out of Hell\", \"1984\", 45)"
   ]
  },
  {
   "cell_type": "code",
   "execution_count": 101,
   "id": "f82578f6",
   "metadata": {},
   "outputs": [],
   "source": [
    "case.new_cd(\"Sound of Music\", \"1964\", 120)"
   ]
  },
  {
   "cell_type": "code",
   "execution_count": 102,
   "id": "fd7112ab",
   "metadata": {},
   "outputs": [],
   "source": [
    "case.new_cd(\"Roxy Music\", \"1922\", 12)"
   ]
  },
  {
   "cell_type": "code",
   "execution_count": null,
   "id": "43bec008",
   "metadata": {},
   "outputs": [],
   "source": []
  },
  {
   "cell_type": "code",
   "execution_count": 103,
   "id": "b4865c9e",
   "metadata": {},
   "outputs": [
    {
     "data": {
      "text/plain": [
       "<__main__.CDCase at 0x1ba5f5491c0>"
      ]
     },
     "execution_count": 103,
     "metadata": {},
     "output_type": "execute_result"
    }
   ],
   "source": [
    "case"
   ]
  },
  {
   "cell_type": "code",
   "execution_count": 104,
   "id": "88ffd058",
   "metadata": {},
   "outputs": [
    {
     "name": "stdout",
     "output_type": "stream",
     "text": [
      "7: Bat Out of Hell\n",
      "8: Sound of Music\n",
      "9: Roxy Music\n"
     ]
    }
   ],
   "source": [
    "case.print_cds()"
   ]
  },
  {
   "cell_type": "code",
   "execution_count": 105,
   "id": "6445d02a",
   "metadata": {},
   "outputs": [
    {
     "name": "stdout",
     "output_type": "stream",
     "text": [
      "CD not found\n"
     ]
    }
   ],
   "source": [
    "case.delete_cd(12)"
   ]
  },
  {
   "cell_type": "code",
   "execution_count": 106,
   "id": "6fa867d3",
   "metadata": {},
   "outputs": [
    {
     "name": "stdout",
     "output_type": "stream",
     "text": [
      "7: Bat Out of Hell\n",
      "8: Sound of Music\n",
      "9: Roxy Music\n"
     ]
    }
   ],
   "source": [
    "case.print_cds()"
   ]
  },
  {
   "cell_type": "code",
   "execution_count": 109,
   "id": "efd484a6",
   "metadata": {},
   "outputs": [
    {
     "name": "stdout",
     "output_type": "stream",
     "text": [
      "This is not available for checkout\n"
     ]
    }
   ],
   "source": [
    "case.check_out_cd(7)"
   ]
  },
  {
   "cell_type": "code",
   "execution_count": null,
   "id": "cccfb4f0",
   "metadata": {},
   "outputs": [],
   "source": []
  }
 ],
 "metadata": {
  "kernelspec": {
   "display_name": "Python 3 (ipykernel)",
   "language": "python",
   "name": "python3"
  },
  "language_info": {
   "codemirror_mode": {
    "name": "ipython",
    "version": 3
   },
   "file_extension": ".py",
   "mimetype": "text/x-python",
   "name": "python",
   "nbconvert_exporter": "python",
   "pygments_lexer": "ipython3",
   "version": "3.9.7"
  }
 },
 "nbformat": 4,
 "nbformat_minor": 5
}
