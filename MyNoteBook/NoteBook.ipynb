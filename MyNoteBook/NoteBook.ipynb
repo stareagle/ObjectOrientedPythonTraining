{
 "cells": [
  {
   "cell_type": "code",
   "execution_count": 1,
   "id": "ac380663",
   "metadata": {},
   "outputs": [],
   "source": [
    "import datetime\n",
    "\n",
    "# Store the next available id for all new notes\n",
    "last_id = 0\n",
    "\n",
    "\n",
    "class Note:\n",
    "    \"\"\"\n",
    "    Represent a note in the Notebook.\n",
    "    Match against a string in searches and store tags for each note.\n",
    "    \"\"\"\n",
    "    def __init__(self, memo, tags=''):\n",
    "        \"\"\"\n",
    "        Initialize a note with memo an optional space seperated tags.\n",
    "        Automatically set the note's creation date and a unique id\n",
    "        :param memo:\n",
    "        :param tags:\n",
    "        \"\"\"\n",
    "        self.memo = memo\n",
    "        self.tags = tags\n",
    "        self.creation_date = datetime.date.today()\n",
    "        global last_id\n",
    "        last_id += 1\n",
    "        self.id = last_id\n",
    "\n",
    "    def match(self, filter):\n",
    "        \"\"\"\n",
    "        Determine if this note matches the filter text.\n",
    "        Return True if it matches, False otherwise.\n",
    "        :param filter:\n",
    "        :return: Boolean\n",
    "        \"\"\"\n",
    "        return filter in self.memo or filter in self.tags\n",
    "\n",
    "\n",
    "class Notebook:\n",
    "    \"\"\"\n",
    "    Represent a collection of notes that can be tagged, modified and searched.\n",
    "    \"\"\"\n",
    "    def __init__(self):\n",
    "        \"\"\"\n",
    "        Initialize a notebook with an empty list.\n",
    "        \"\"\"\n",
    "        self.notes = []\n",
    "\n",
    "    def new_note(self, memo, tags=''):\n",
    "        \"\"\"\n",
    "        Create a new note and add it to the list\n",
    "        :param memo:\n",
    "        :param tags:\n",
    "        :return:\n",
    "        \"\"\"\n",
    "        self.notes.append(Note(memo, tags))\n",
    "\n",
    "    def modify_memo(self, note_id, memo):\n",
    "        \"\"\"\n",
    "        Find the note with the given id and change its memo to the given value.\n",
    "        :param note_id:\n",
    "        :param memo:\n",
    "        :return:\n",
    "        \"\"\"\n",
    "        self._find_note(note_id).memo = memo\n",
    "\n",
    "    def modify_tags(self, note_id, tags):\n",
    "        \"\"\"\n",
    "        Find the note with the given id and change its tags to the given value.\n",
    "        :param note_id:\n",
    "        :param tags:\n",
    "        :return:\n",
    "        \"\"\"\n",
    "        self._find_note(note_id).tags = tags\n",
    "\n",
    "    def search(self, filter):\n",
    "        \"\"\"\n",
    "        Find all notes that match the given filter string.\n",
    "        :param filter:\n",
    "        :return: list\n",
    "        \"\"\"\n",
    "        return [note for note in self.notes if note.match(filter)]\n",
    "\n",
    "    def _find_note(self, note_id):\n",
    "        \"\"\"\n",
    "        Locate the note with the given id\n",
    "        :param note_id:\n",
    "        :return:\n",
    "        \"\"\"\n",
    "        for note in self.notes:\n",
    "            if note.id == note_id:\n",
    "                return note\n",
    "            return None\n",
    "\n",
    "\n"
   ]
  },
  {
   "cell_type": "code",
   "execution_count": 3,
   "id": "e46eb757",
   "metadata": {},
   "outputs": [],
   "source": [
    "notebook = Notebook()"
   ]
  },
  {
   "cell_type": "code",
   "execution_count": 4,
   "id": "1e02bbd5",
   "metadata": {},
   "outputs": [],
   "source": [
    "notebook.new_note(\"fdfdfdfdfdf\")"
   ]
  },
  {
   "cell_type": "code",
   "execution_count": 5,
   "id": "310abc9f",
   "metadata": {},
   "outputs": [],
   "source": [
    "notebook.new_note(\"Python\")"
   ]
  },
  {
   "cell_type": "code",
   "execution_count": 6,
   "id": "06b2e30e",
   "metadata": {},
   "outputs": [
    {
     "data": {
      "text/plain": [
       "<__main__.Note at 0x14093d5df70>"
      ]
     },
     "execution_count": 6,
     "metadata": {},
     "output_type": "execute_result"
    }
   ],
   "source": [
    "notebook._find_note(1)"
   ]
  },
  {
   "cell_type": "code",
   "execution_count": null,
   "id": "ed758955",
   "metadata": {},
   "outputs": [],
   "source": []
  }
 ],
 "metadata": {
  "kernelspec": {
   "display_name": "Python 3 (ipykernel)",
   "language": "python",
   "name": "python3"
  },
  "language_info": {
   "codemirror_mode": {
    "name": "ipython",
    "version": 3
   },
   "file_extension": ".py",
   "mimetype": "text/x-python",
   "name": "python",
   "nbconvert_exporter": "python",
   "pygments_lexer": "ipython3",
   "version": "3.9.7"
  }
 },
 "nbformat": 4,
 "nbformat_minor": 5
}
